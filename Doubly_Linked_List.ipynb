{
  "nbformat": 4,
  "nbformat_minor": 0,
  "metadata": {
    "colab": {
      "name": "Doubly Linked List.ipynb",
      "provenance": [],
      "authorship_tag": "ABX9TyO5iuT2ez7j7uMQYvHQuFs6",
      "include_colab_link": true
    },
    "kernelspec": {
      "name": "python3",
      "display_name": "Python 3"
    },
    "language_info": {
      "name": "python"
    }
  },
  "cells": [
    {
      "cell_type": "markdown",
      "metadata": {
        "id": "view-in-github",
        "colab_type": "text"
      },
      "source": [
        "<a href=\"https://colab.research.google.com/github/RaHuL-J31/DataStucture-and-Algo-in-Python/blob/master/Doubly_Linked_List.ipynb\" target=\"_parent\"><img src=\"https://colab.research.google.com/assets/colab-badge.svg\" alt=\"Open In Colab\"/></a>"
      ]
    },
    {
      "cell_type": "markdown",
      "metadata": {
        "id": "fjf7d_MpvwkI"
      },
      "source": [
        "# Doubly Linked List in Python\n"
      ]
    },
    {
      "cell_type": "code",
      "metadata": {
        "id": "xeIO-FcbwG7b"
      },
      "source": [
        "class Node:\n",
        "    def __init__(self, data=None, next=None):\n",
        "        self.data = data\n",
        "        self.next = next"
      ],
      "execution_count": 1,
      "outputs": []
    },
    {
      "cell_type": "code",
      "metadata": {
        "id": "m0Z74bQHwDIy"
      },
      "source": [
        "class LinkedList:\n",
        "    def __init__(self):\n",
        "        self.head = None\n",
        "\n",
        "    def print(self):\n",
        "        if self.head is None:\n",
        "            print(\"Linked list is empty\")\n",
        "            return\n",
        "        itr = self.head\n",
        "        llstr = ''\n",
        "        while itr:\n",
        "            llstr += str(itr.data)+' --> ' if itr.next else str(itr.data)\n",
        "            itr = itr.next\n",
        "        print(llstr)\n",
        "\n",
        "    def get_length(self):\n",
        "        count = 0\n",
        "        itr = self.head\n",
        "        while itr:\n",
        "            count+=1\n",
        "            itr = itr.next\n",
        "\n",
        "        return count\n",
        "\n",
        "    def insert_at_begining(self, data):\n",
        "        node = Node(data, self.head)\n",
        "        self.head = node\n",
        "\n",
        "    def insert_at_end(self, data):\n",
        "        if self.head is None:\n",
        "            self.head = Node(data, None)\n",
        "            return\n",
        "\n",
        "        itr = self.head\n",
        "\n",
        "        while itr.next:\n",
        "            itr = itr.next\n",
        "\n",
        "        itr.next = Node(data, None)\n",
        "\n",
        "    def insert_at(self, index, data):\n",
        "        if index<0 or index>self.get_length():\n",
        "            raise Exception(\"Invalid Index\")\n",
        "\n",
        "        if index==0:\n",
        "            self.insert_at_begining(data)\n",
        "            return\n",
        "\n",
        "        count = 0\n",
        "        itr = self.head\n",
        "        while itr:\n",
        "            if count == index - 1:\n",
        "                node = Node(data, itr.next)\n",
        "                itr.next = node\n",
        "                break\n",
        "\n",
        "            itr = itr.next\n",
        "            count += 1\n",
        "\n",
        "    def remove_at(self, index):\n",
        "        if index<0 or index>=self.get_length():\n",
        "            raise Exception(\"Invalid Index\")\n",
        "\n",
        "        if index==0:\n",
        "            self.head = self.head.next\n",
        "            return\n",
        "\n",
        "        count = 0\n",
        "        itr = self.head\n",
        "        while itr:\n",
        "            if count == index - 1:\n",
        "                itr.next = itr.next.next\n",
        "                break\n",
        "\n",
        "            itr = itr.next\n",
        "            count+=1\n",
        "\n",
        "    def insert_values(self, data_list):\n",
        "        self.head = None\n",
        "        for data in data_list:\n",
        "            self.insert_at_end(data)\n",
        "\n"
      ],
      "execution_count": 2,
      "outputs": []
    },
    {
      "cell_type": "code",
      "metadata": {
        "colab": {
          "base_uri": "https://localhost:8080/"
        },
        "id": "rczkqpeWwKWJ",
        "outputId": "e933bfff-9934-4ac9-a577-34f322a0caa6"
      },
      "source": [
        "if __name__ == '__main__':\n",
        "    ll = LinkedList()\n",
        "    ll.insert_values([\"banana\",\"mango\",\"grapes\",\"orange\"])\n",
        "    ll.insert_at(1,\"blueberry\")\n",
        "    ll.remove_at(2)\n",
        "    ll.print()\n",
        "\n",
        "    ll.insert_values([45,7,12,567,99])\n",
        "    ll.insert_at_end(67)\n",
        "    ll.print()"
      ],
      "execution_count": 3,
      "outputs": [
        {
          "output_type": "stream",
          "text": [
            "banana --> blueberry --> grapes --> orange\n",
            "45 --> 7 --> 12 --> 567 --> 99 --> 67\n"
          ],
          "name": "stdout"
        }
      ]
    },
    {
      "cell_type": "code",
      "metadata": {
        "id": "nFLVseeLwObr"
      },
      "source": [
        ""
      ],
      "execution_count": null,
      "outputs": []
    }
  ]
}