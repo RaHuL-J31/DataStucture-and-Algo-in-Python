{
  "nbformat": 4,
  "nbformat_minor": 0,
  "metadata": {
    "colab": {
      "name": "LinkedList.ipynb",
      "provenance": [],
      "collapsed_sections": [],
      "authorship_tag": "ABX9TyOHobvJIQXgmP5CHhU7d9sn",
      "include_colab_link": true
    },
    "kernelspec": {
      "name": "python3",
      "display_name": "Python 3"
    },
    "language_info": {
      "name": "python"
    }
  },
  "cells": [
    {
      "cell_type": "markdown",
      "metadata": {
        "id": "view-in-github",
        "colab_type": "text"
      },
      "source": [
        "<a href=\"https://colab.research.google.com/github/RaHuL-J31/DataStucture-and-Algo-in-Python/blob/master/LinkedList.ipynb\" target=\"_parent\"><img src=\"https://colab.research.google.com/assets/colab-badge.svg\" alt=\"Open In Colab\"/></a>"
      ]
    },
    {
      "cell_type": "markdown",
      "metadata": {
        "id": "_L6bjPJs207x"
      },
      "source": [
        "# Linked List in Python"
      ]
    },
    {
      "cell_type": "code",
      "metadata": {
        "id": "VwEHtTWC2KiJ"
      },
      "source": [
        "class Node:\n",
        "    def __init__(self, data=None, next=None):\n",
        "        self.data = data\n",
        "        self.next = next"
      ],
      "execution_count": 2,
      "outputs": []
    },
    {
      "cell_type": "code",
      "metadata": {
        "id": "1kxbEeJz2PJQ"
      },
      "source": [
        "class LinkedList:\n",
        "    def __init__(self):\n",
        "        self.head = None\n",
        "\n",
        "    def insert_at_begin(self, data):\n",
        "        node = Node(data, self.head)\n",
        "        self.head = node\n",
        "\n",
        "    def insert_at_end(self, data):\n",
        "        if self.head is None:\n",
        "            self.head = Node(data, None)\n",
        "            return\n",
        "        itr = self.head\n",
        "        while itr.next:\n",
        "            itr = itr.next\n",
        "        itr.next = Node(data, None)\n",
        "\n",
        "    def insert_values(self, data_lis):\n",
        "        self.head = None\n",
        "        for data in data_lis:\n",
        "            self.insert_at_end(data)\n",
        "    \n",
        "    def get_length(self):\n",
        "        count = 0\n",
        "        itr = self.head\n",
        "        while itr:\n",
        "            count += 1\n",
        "            itr = itr.next\n",
        "        return count\n",
        "    \n",
        "    #remove at a position\n",
        "    def remove_at(self,index):\n",
        "      if index < 0 or index > self.get_length():\n",
        "        raise Exception(\"Index out of bound\")\n",
        "      if index == 0:\n",
        "        self.head = self.head.next\n",
        "        return\n",
        "      \n",
        "      count = 0\n",
        "      itr = self.head\n",
        "      while itr:\n",
        "        if count == index-1:\n",
        "          itr.next = itr.next.next\n",
        "          break\n",
        "        itr = itr.next\n",
        "        count +=1\n",
        "    #insert at a position\n",
        "    def insert_at_loc(self,index,data):\n",
        "      if index < 0 or index > self.get_length():\n",
        "        raise Exception(\"Index out of bound\")\n",
        "      if index == 0:\n",
        "        self.head = self.head.next\n",
        "        return\n",
        "      count = 0\n",
        "      itr = self.head\n",
        "      while itr:\n",
        "        if count == index-1:\n",
        "          node = Node(data,itr.next)\n",
        "          itr.next = node\n",
        "          break\n",
        "        itr = itr.next\n",
        "        count += 1\n",
        "\n",
        "\n",
        "    def display(self):\n",
        "        if self.head is None:\n",
        "            print(\"No Element in the list\")\n",
        "            return\n",
        "        itr = self.head\n",
        "        arr = ''\n",
        "        while itr:\n",
        "            arr += str(itr.data) + \"--\"\n",
        "            itr = itr.next\n",
        "        print(arr)\n",
        "\n",
        "\n"
      ],
      "execution_count": 3,
      "outputs": []
    },
    {
      "cell_type": "code",
      "metadata": {
        "colab": {
          "base_uri": "https://localhost:8080/"
        },
        "id": "753-hqn82w5U",
        "outputId": "3be27190-b0bf-4a09-8548-eaba8b4f0ce3"
      },
      "source": [
        "if __name__ == \"__main__\":\n",
        "    ll = LinkedList()\n",
        "    ll.insert_values([\"banana\",\"mango\",\"grapes\",\"orange\"])\n",
        "    ll.insert_at_loc(1,\"blueberry\")\n",
        "    ll.remove_at(2)\n",
        "    ll.display()\n",
        "\n",
        "    ll.insert_values([45,7,12,567,99])\n",
        "    ll.insert_at_end(67)\n",
        "    ll.display()"
      ],
      "execution_count": 5,
      "outputs": [
        {
          "output_type": "stream",
          "text": [
            "banana--blueberry--grapes--orange--\n",
            "45--7--12--567--99--67--\n"
          ],
          "name": "stdout"
        }
      ]
    },
    {
      "cell_type": "code",
      "metadata": {
        "id": "Gcg4V4x12yBU"
      },
      "source": [
        ""
      ],
      "execution_count": null,
      "outputs": []
    }
  ]
}