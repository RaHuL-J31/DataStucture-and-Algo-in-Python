{
  "nbformat": 4,
  "nbformat_minor": 0,
  "metadata": {
    "colab": {
      "name": "Arrays.ipynb",
      "provenance": [],
      "collapsed_sections": [],
      "authorship_tag": "ABX9TyMIZ5tM/I5xCmbRSpoczu32",
      "include_colab_link": true
    },
    "kernelspec": {
      "name": "python3",
      "display_name": "Python 3"
    },
    "language_info": {
      "name": "python"
    }
  },
  "cells": [
    {
      "cell_type": "markdown",
      "metadata": {
        "id": "view-in-github",
        "colab_type": "text"
      },
      "source": [
        "<a href=\"https://colab.research.google.com/github/RaHuL-J31/DataStucture-and-Algo-in-Python/blob/master/Arrays.ipynb\" target=\"_parent\"><img src=\"https://colab.research.google.com/assets/colab-badge.svg\" alt=\"Open In Colab\"/></a>"
      ]
    },
    {
      "cell_type": "markdown",
      "metadata": {
        "id": "UpjIqyqgwtGn"
      },
      "source": [
        "# Arrays in Python"
      ]
    },
    {
      "cell_type": "markdown",
      "metadata": {
        "id": "-Q-MTBlnykp3"
      },
      "source": [
        "#### Lookup by Index = O(1) -> no time needed to look up directly using index\n",
        "#### Lookup By Value = O(n) -> check till you get n\n",
        "#### Array Traversal = O(n)\n",
        "#### Insert, Delete = O(n)"
      ]
    },
    {
      "cell_type": "code",
      "metadata": {
        "id": "kuQEVjG_wwfi"
      },
      "source": [
        "arr = [1,2,3,4,5]"
      ],
      "execution_count": 1,
      "outputs": []
    },
    {
      "cell_type": "code",
      "metadata": {
        "colab": {
          "base_uri": "https://localhost:8080/"
        },
        "id": "1OPvEJTKwy0x",
        "outputId": "86575487-80ab-411c-d192-b66069a5941f"
      },
      "source": [
        "arr[1]"
      ],
      "execution_count": 2,
      "outputs": [
        {
          "output_type": "execute_result",
          "data": {
            "text/plain": [
              "2"
            ]
          },
          "metadata": {
            "tags": []
          },
          "execution_count": 2
        }
      ]
    },
    {
      "cell_type": "code",
      "metadata": {
        "colab": {
          "base_uri": "https://localhost:8080/"
        },
        "id": "X5ueA5IZw8Ug",
        "outputId": "81c703de-f68f-4395-8187-9f30bfa761c9"
      },
      "source": [
        "num  = arr.copy()\n",
        "num"
      ],
      "execution_count": 3,
      "outputs": [
        {
          "output_type": "execute_result",
          "data": {
            "text/plain": [
              "[1, 2, 3, 4, 5]"
            ]
          },
          "metadata": {
            "tags": []
          },
          "execution_count": 3
        }
      ]
    },
    {
      "cell_type": "code",
      "metadata": {
        "colab": {
          "base_uri": "https://localhost:8080/"
        },
        "id": "_XXDa1wsxAHI",
        "outputId": "c5748570-6235-42d4-a850-47a81a6083b7"
      },
      "source": [
        "num.append(6)\n",
        "num"
      ],
      "execution_count": 4,
      "outputs": [
        {
          "output_type": "execute_result",
          "data": {
            "text/plain": [
              "[1, 2, 3, 4, 5, 6]"
            ]
          },
          "metadata": {
            "tags": []
          },
          "execution_count": 4
        }
      ]
    },
    {
      "cell_type": "code",
      "metadata": {
        "colab": {
          "base_uri": "https://localhost:8080/"
        },
        "id": "zgu4umyaxXI2",
        "outputId": "118da982-40c1-4431-dd73-cae21eb7bd40"
      },
      "source": [
        "u = [5,4,3,2,1]\n",
        "u.sort()\n",
        "u"
      ],
      "execution_count": 9,
      "outputs": [
        {
          "output_type": "execute_result",
          "data": {
            "text/plain": [
              "[1, 2, 3, 4, 5]"
            ]
          },
          "metadata": {
            "tags": []
          },
          "execution_count": 9
        }
      ]
    },
    {
      "cell_type": "code",
      "metadata": {
        "colab": {
          "base_uri": "https://localhost:8080/"
        },
        "id": "6qQg1hptxa1J",
        "outputId": "456febc6-8180-4631-b0a9-9856ee1bd805"
      },
      "source": [
        "day = ['sun','mon','tue','mon']\n",
        "day.count('mon')"
      ],
      "execution_count": 16,
      "outputs": [
        {
          "output_type": "execute_result",
          "data": {
            "text/plain": [
              "2"
            ]
          },
          "metadata": {
            "tags": []
          },
          "execution_count": 16
        }
      ]
    },
    {
      "cell_type": "code",
      "metadata": {
        "colab": {
          "base_uri": "https://localhost:8080/"
        },
        "id": "gNvQKFfaxsHY",
        "outputId": "22036823-a78a-40ce-f32f-620c673e1b64"
      },
      "source": [
        "day.index('mon')"
      ],
      "execution_count": 17,
      "outputs": [
        {
          "output_type": "execute_result",
          "data": {
            "text/plain": [
              "1"
            ]
          },
          "metadata": {
            "tags": []
          },
          "execution_count": 17
        }
      ]
    },
    {
      "cell_type": "code",
      "metadata": {
        "colab": {
          "base_uri": "https://localhost:8080/"
        },
        "id": "lsHFVCS0yRZ3",
        "outputId": "5727befe-9db4-4e97-8cd5-a17f290d5527"
      },
      "source": [
        "day.pop(0)\n",
        "day"
      ],
      "execution_count": 19,
      "outputs": [
        {
          "output_type": "execute_result",
          "data": {
            "text/plain": [
              "['mon', 'tue', 'mon']"
            ]
          },
          "metadata": {
            "tags": []
          },
          "execution_count": 19
        }
      ]
    },
    {
      "cell_type": "code",
      "metadata": {
        "colab": {
          "base_uri": "https://localhost:8080/"
        },
        "id": "ItoPEveFyUw6",
        "outputId": "f4430759-a28f-4152-e230-e64fe72db905"
      },
      "source": [
        "arr = [1,2,3,4,5]\n",
        "arr.reverse()\n",
        "arr"
      ],
      "execution_count": 23,
      "outputs": [
        {
          "output_type": "execute_result",
          "data": {
            "text/plain": [
              "[5, 4, 3, 2, 1]"
            ]
          },
          "metadata": {
            "tags": []
          },
          "execution_count": 23
        }
      ]
    },
    {
      "cell_type": "code",
      "metadata": {
        "id": "SEwxOOG2ybwG"
      },
      "source": [
        ""
      ],
      "execution_count": null,
      "outputs": []
    }
  ]
}